{
 "cells": [
  {
   "cell_type": "markdown",
   "id": "09b41502",
   "metadata": {
    "vscode": {
     "languageId": "plaintext"
    }
   },
   "source": [
    "## COSC 1210\n",
    "### print(), input(), value storage and chaos\n",
    "\n",
    "Objectives\n",
    "- use the chaos function to illustrate the importance of value storage"
   ]
  },
  {
   "cell_type": "code",
   "execution_count": 4,
   "id": "b6e1cd88",
   "metadata": {},
   "outputs": [
    {
     "name": "stdout",
     "output_type": "stream",
     "text": [
      "0.9999999999999998\n"
     ]
    }
   ],
   "source": [
    "\n",
    "def main():\n",
    "    a = 1/7\n",
    "    b = a + a + a + a + a + a + a\n",
    "    print(b)\n",
    "main()"
   ]
  },
  {
   "cell_type": "markdown",
   "id": "b7800a95",
   "metadata": {},
   "source": [
    "##### Explain why the function above provides an answer that is different than the algebraic solution\n",
    "This is because the computer does not round an answer. So the answer will only keep getting closer to 1, never actually reaching the answer.\n"
   ]
  },
  {
   "cell_type": "code",
   "execution_count": 5,
   "id": "419c95e4",
   "metadata": {},
   "outputs": [
    {
     "name": "stdout",
     "output_type": "stream",
     "text": [
      "b is 1.0\n",
      "c is 0.9999999999999998\n",
      "2.220446049250313e-16\n"
     ]
    }
   ],
   "source": [
    "def main():\n",
    "    a = 1/7\n",
    "    b = a * 7\n",
    "    c = a + a + a + a + a + a + a\n",
    "    print(\"b is\", b)\n",
    "    print(\"c is\", c)\n",
    "    print(b-c)\n",
    "main()"
   ]
  },
  {
   "cell_type": "markdown",
   "id": "45e9d1a1",
   "metadata": {},
   "source": [
    "##### Explain why b and c provide different answers\n",
    "b and c are different because when adding fractions the computer will never actually reach the whole number. When the function is mulitplied the computer does rounding. It is built in.\n",
    "\n",
    "\n",
    "##### How large is the difference between c and b?\n",
    "The difference between c and b is very small. About .1 or smaller.\n",
    "\n"
   ]
  },
  {
   "cell_type": "markdown",
   "id": "763a111c",
   "metadata": {},
   "source": [
    "### rounding floats\n",
    "Mathematically, what will be the value of b?\n",
    "When calculated by python, what is the value of b?"
   ]
  },
  {
   "cell_type": "code",
   "execution_count": null,
   "id": "704054ee",
   "metadata": {},
   "outputs": [],
   "source": [
    "def main():\n",
    "    print(\"This program illustrates a chaotic function\")\n",
    "    iterations = 10\n",
    "    x1 = 0.15\n",
    "    for i in range(iterations):\n",
    "        x1 = 3.9 * x1 * (1 - x1)\n",
    "    print(\"For\", iterations, \"iterations, x1 is:\", x1)\n",
    "main()"
   ]
  },
  {
   "cell_type": "markdown",
   "id": "335eda4a",
   "metadata": {},
   "source": [
    "##### If you calculate x1 for 10 iterations vs 100 iterations, what answers do you get?\n",
    "\n",
    "for 10 iterations: 0.9735732406265619\n",
    "\n",
    "for 100 iterations: 0.5126527786207501\n",
    "\n",
    "##### What are these different?\n",
    "The number changes each time though the calculation."
   ]
  },
  {
   "cell_type": "code",
   "execution_count": 1,
   "id": "2b07c024",
   "metadata": {},
   "outputs": [
    {
     "name": "stdout",
     "output_type": "stream",
     "text": [
      "This program illustrates a chaotic function\n",
      "For 10 iternations, x1 is now 0.9735732406265619 and x2 is now 0.9735732406265659\n"
     ]
    }
   ],
   "source": [
    "def main():\n",
    "    print(\"This program illustrates a chaotic function\")\n",
    "    iterations = 10\n",
    "    x1 = 0.15\n",
    "    x2 = 0.15\n",
    "    for i in range(iterations):\n",
    "        x1 = 3.9 * x1 * (1 - x1)\n",
    "        x2 = 3.9 * (x2 - x2 * x2)\n",
    "    print(\"For\", iterations, \"iternations, x1 is now\", x1, \"and x2 is now\", x2)\n",
    "main()"
   ]
  },
  {
   "cell_type": "markdown",
   "id": "2d137bda",
   "metadata": {},
   "source": [
    "##### If you calculate x1 and x2 for 10 iterations vs 100 iterations, what answers do you get?\n",
    "\n",
    "x1 10 iterations: 0.9735732406265619\n",
    "\n",
    "x2 10 iterations: 0.9735732406265659\n",
    "\n",
    "\n",
    "\n",
    "x1 100 iterations:0.5126527786207501\n",
    "\n",
    "x2 100 iterations: 0.16411537941360743\n",
    "\n",
    "##### Why are these different?\n",
    "The order of operations is what gives them different answers. Because the variable is used multiple times of x2, the rounding gets extremely off. So when there are less variables, it leaves less room for rounding to become off."
   ]
  },
  {
   "cell_type": "code",
   "execution_count": 6,
   "id": "463cb691",
   "metadata": {},
   "outputs": [],
   "source": [
    "### Rewrite the chaos function so that the use can enter x\n",
    "### Rewrite the chaos function so that the use can enter x\n",
    "def main():\n",
    "    print(\"This program illustrates a chaotic function\")\n",
    "    user_num= input()\n",
    "    iteration = user_num"
   ]
  }
 ],
 "metadata": {
  "kernelspec": {
   "display_name": "Python 3",
   "language": "python",
   "name": "python3"
  },
  "language_info": {
   "codemirror_mode": {
    "name": "ipython",
    "version": 3
   },
   "file_extension": ".py",
   "mimetype": "text/x-python",
   "name": "python",
   "nbconvert_exporter": "python",
   "pygments_lexer": "ipython3",
   "version": "3.9.6"
  }
 },
 "nbformat": 4,
 "nbformat_minor": 5
}
