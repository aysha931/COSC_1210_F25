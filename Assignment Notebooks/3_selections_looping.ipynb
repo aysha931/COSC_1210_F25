{
 "cells": [
  {
   "cell_type": "markdown",
   "id": "6bd64481",
   "metadata": {},
   "source": [
    "#### Selections and Looping"
   ]
  },
  {
   "cell_type": "markdown",
   "id": "24bc17b6",
   "metadata": {},
   "source": [
    "Objectives\n",
    "- decide whether to execute actions with if, if..elif..else, and if..else\n",
    "- execute statements repeatedly with for and while\n",
    "- use augmented assignment\n",
    "- use the range function and its parameters\n",
    "- perform sentinel control in a while loop\n",
    "- create complex conditionals\n",
    "- stop looping with break and force next iteration with continue"
   ]
  },
  {
   "cell_type": "raw",
   "id": "69301c8f",
   "metadata": {
    "vscode": {
     "languageId": "raw"
    }
   },
   "source": [
    "if, if/else, if/elif/else\n",
    "\n",
    "Selections in python\n",
    "if <conditional>:\n",
    "    statement\n",
    "else: \n",
    "    statement\n",
    "\n",
    "if <conditional>:\n",
    "    statement\n",
    "elif <conditional>:\n",
    "    statement\n",
    "elif <conditional>\"\n",
    "    statement\n",
    "else:\n",
    "    statement\n"
   ]
  },
  {
   "cell_type": "code",
   "execution_count": null,
   "id": "c8cae2fa",
   "metadata": {},
   "outputs": [],
   "source": [
    "# if, if/else, if/elif/else\n",
    "def main():\n",
    "    '''ask use for a grade and provide the letter grade that is associated'''\n",
    "    grade = eval(input(\"Enter the student grade \"))\n",
    "    if grade >= 90:\n",
    "        print(\"A\")\n",
    "\n",
    "main()"
   ]
  },
  {
   "cell_type": "code",
   "execution_count": 21,
   "id": "a5bb9098",
   "metadata": {},
   "outputs": [
    {
     "name": "stdout",
     "output_type": "stream",
     "text": [
      "tie you both chose: rock rock\n"
     ]
    }
   ],
   "source": [
    "# write a program that determines the result of a rock paper scissors game\n",
    "# use the random_throw() function to get a random choice of rock paper scissors from the computer\n",
    "# \n",
    "import random as rand\n",
    "\n",
    "def random_throw():\n",
    "    '''selects a random item from rock, paper, scissors\n",
    "    returns string to user''' \n",
    "    choices = ['rock', 'paper', 'scissors']\n",
    "    return rand.choice(choices)\n",
    "\n",
    "## print(random_throw()) # successful test random_throw()\n",
    "\n",
    "def main():\n",
    "    '''rock paper scissors'''\n",
    "    computer_choice = random_throw()\n",
    "    #print(computer_choice)\n",
    "    user_choice = input(\"enter rock paper or scissors\")\n",
    "    if computer_choice == user_choice:\n",
    "        print(\"tie you both chose:\", computer_choice, user_choice)\n",
    "    elif computer_choice == 'scissors' and user_choice == 'rock' :\n",
    "        print(\"you win\", computer_choice, user_choice)\n",
    "    elif computer_choice == 'scissors' and user_choice == 'paper' :\n",
    "        print(\"You lose\", computer_choice, user_choice)\n",
    "    elif computer_choice == 'paper' and user_choice == 'rock' :\n",
    "        print(\"you lose\", computer_choice, user_choice)\n",
    "    elif computer_choice == 'paper'and user_choice == 'scissors' :\n",
    "        print(\"You win\", computer_choice, user_choice)\n",
    "    elif computer_choice == 'rock' and user_choice == 'scissors' :\n",
    "        print(\"You win\", computer_choice, user_choice)\n",
    "    elif computer_choice == 'rock' and user_choice == 'paper' :\n",
    "        print(\"You lose\", computer_choice, user_choice)\n",
    "\n",
    "main()"
   ]
  },
  {
   "cell_type": "markdown",
   "id": "45eaa2d9",
   "metadata": {},
   "source": [
    "#### range()\n",
    "\n",
    "We can use the range() function to create lists based on a range of numbers\n",
    "\n",
    "range(stop) - upto but not including stop\n",
    "-default start 0\n",
    "-default step 1\n",
    "\n",
    "range(start,stop,step)\n",
    "- start: beginning of list\n",
    "- stop: up to but not including this number\n",
    "- step: the count up or down"
   ]
  },
  {
   "cell_type": "code",
   "execution_count": 22,
   "id": "96d1537e",
   "metadata": {},
   "outputs": [
    {
     "name": "stdout",
     "output_type": "stream",
     "text": [
      "[0, 1, 2, 3, 4, 5, 6, 7, 8, 9]\n"
     ]
    }
   ],
   "source": [
    "# range()\n",
    "print(list(range(10)))\n"
   ]
  },
  {
   "cell_type": "code",
   "execution_count": 25,
   "id": "3d0d39d1",
   "metadata": {},
   "outputs": [
    {
     "name": "stdout",
     "output_type": "stream",
     "text": [
      "[100, 98, 96, 94, 92, 90, 88, 86, 84, 82, 80, 78, 76, 74, 72, 70, 68, 66, 64, 62, 60, 58, 56, 54, 52, 50, 48, 46, 44, 42, 40, 38, 36, 34, 32, 30, 28, 26, 24, 22, 20, 18, 16, 14, 12, 10, 8, 6, 4, 2]\n"
     ]
    }
   ],
   "source": [
    "### display the numbers starting at 100 and going to 2 counting down by 2\n",
    "\n",
    "print(list(range(100,0,-2)))"
   ]
  },
  {
   "cell_type": "markdown",
   "id": "f69229ae",
   "metadata": {},
   "source": [
    "#### for\n",
    "\n",
    "for <val> in <iterable>:\n",
    "    body\n",
    "\n",
    "The for loop will iterate for as many items are in the iterable\n",
    "\n",
    "Iterables can be - lists or strings"
   ]
  },
  {
   "cell_type": "code",
   "execution_count": 26,
   "id": "5a65cc3f",
   "metadata": {},
   "outputs": [
    {
     "name": "stdout",
     "output_type": "stream",
     "text": [
      "a\n",
      "b\n",
      "c\n"
     ]
    }
   ],
   "source": [
    "# for\n",
    "for i in 'abc':\n",
    "    print(i)"
   ]
  },
  {
   "cell_type": "code",
   "execution_count": 28,
   "id": "9f7e4f8e",
   "metadata": {},
   "outputs": [
    {
     "name": "stdout",
     "output_type": "stream",
     "text": [
      "0\n",
      "1\n",
      "2\n",
      "3\n",
      "4\n",
      "5\n",
      "6\n",
      "7\n",
      "8\n",
      "9\n"
     ]
    }
   ],
   "source": [
    "for i in range(10) :\n",
    "    print(i)"
   ]
  },
  {
   "cell_type": "code",
   "execution_count": 45,
   "id": "9abda154",
   "metadata": {},
   "outputs": [
    {
     "name": "stdout",
     "output_type": "stream",
     "text": [
      "27\n"
     ]
    }
   ],
   "source": [
    "# calculate a factorial with a for loop\n",
    "def main() :\n",
    "    user_num = eval(input(\"Enter a number to calculate a factorial\"))\n",
    "    running_product = 1\n",
    "    for nm in range(1, user_num +1, 1) :\n",
    "        running_product = running_product * user_num\n",
    "    print(running_product)\n",
    "main()"
   ]
  },
  {
   "cell_type": "markdown",
   "id": "66e4d5a9",
   "metadata": {},
   "source": [
    "#### while\n",
    "\n",
    "while <conditional>:\n",
    "    body\n",
    "\n",
    "In the body of a while loop, you must get closer to making the conditional false\n"
   ]
  },
  {
   "cell_type": "code",
   "execution_count": 44,
   "id": "03610044",
   "metadata": {},
   "outputs": [
    {
     "name": "stdout",
     "output_type": "stream",
     "text": [
      "10\n",
      "9\n",
      "8\n",
      "7\n",
      "6\n",
      "5\n",
      "4\n",
      "3\n",
      "2\n"
     ]
    }
   ],
   "source": [
    "# while\n",
    "a = 10\n",
    "while a > 1:\n",
    "    print(a)\n",
    "    a = a - 1\n"
   ]
  },
  {
   "cell_type": "code",
   "execution_count": 3,
   "id": "6b83815d",
   "metadata": {},
   "outputs": [
    {
     "ename": "NameError",
     "evalue": "name 'fact' is not defined",
     "output_type": "error",
     "traceback": [
      "\u001b[0;31m---------------------------------------------------------------------------\u001b[0m",
      "\u001b[0;31mNameError\u001b[0m                                 Traceback (most recent call last)",
      "Cell \u001b[0;32mIn[3], line 6\u001b[0m\n\u001b[1;32m      4\u001b[0m n\u001b[38;5;241m=\u001b[39m user_num\n\u001b[1;32m      5\u001b[0m \u001b[38;5;28;01mwhile\u001b[39;00m n\u001b[38;5;241m>\u001b[39m \u001b[38;5;241m1\u001b[39m:\n\u001b[0;32m----> 6\u001b[0m     fact \u001b[38;5;241m=\u001b[39m \u001b[43mfact\u001b[49m \u001b[38;5;241m*\u001b[39m n\n\u001b[1;32m      7\u001b[0m     n\u001b[38;5;241m=\u001b[39m n\u001b[38;5;241m-\u001b[39m\u001b[38;5;241m1\u001b[39m\n\u001b[1;32m      8\u001b[0m \u001b[38;5;28mprint\u001b[39m(fact)\n",
      "\u001b[0;31mNameError\u001b[0m: name 'fact' is not defined"
     ]
    }
   ],
   "source": [
    "# calculate a factorial with a whle loop\n",
    "user_num= eval(input(\"Enter a number to calculate a factorial\"))\n",
    "running_product = 1\n",
    "n= user_num\n",
    "while n> 1:\n",
    "    fact = fact * n\n",
    "    n= n-1\n",
    "print(fact)"
   ]
  },
  {
   "cell_type": "code",
   "execution_count": 47,
   "id": "dd711dc2",
   "metadata": {},
   "outputs": [
    {
     "name": "stdout",
     "output_type": "stream",
     "text": [
      "a is 6\n",
      "b is 6\n"
     ]
    }
   ],
   "source": [
    "# augmented assignment\n",
    "a = 5\n",
    "a = a + 1\n",
    "print(\"a is\", a)\n",
    "\n",
    "# is the same as\n",
    "b = 5\n",
    "b += 1\n",
    "print(\"b is\", b)"
   ]
  },
  {
   "cell_type": "markdown",
   "id": "cce7d78b",
   "metadata": {},
   "source": [
    "#### sentinel control\n",
    "\n",
    "Sentinels are a special value that signals the terminal of a loop\n",
    "\n",
    "go = \"Y\"\n",
    "while go == \"Y\":\n",
    "    body\n",
    "    go = input(\"continue? Y or N\")\n",
    "    "
   ]
  },
  {
   "cell_type": "code",
   "execution_count": 7,
   "id": "a07f5457",
   "metadata": {},
   "outputs": [
    {
     "name": "stdout",
     "output_type": "stream",
     "text": [
      "continued\n",
      "ended\n"
     ]
    }
   ],
   "source": [
    "# sentinel control in a while loop\n",
    "\n",
    "go = \"Y\"\n",
    "while go == \"Y\":\n",
    "    print(\"continued\")\n",
    "    go = input(\"continue? Y or N\")\n",
    "print(\"ended\")\n"
   ]
  },
  {
   "cell_type": "code",
   "execution_count": 1,
   "id": "46179dac",
   "metadata": {},
   "outputs": [
    {
     "name": "stdout",
     "output_type": "stream",
     "text": [
      "enter a number\n",
      "15\n",
      "ended\n"
     ]
    }
   ],
   "source": [
    "## write a function that accepts a user number and diplays that number * 5\n",
    "## it must use sentinel control, asking the user if they want to continue\n",
    "user_num = eval(input(\"Enter a Number\"))\n",
    "go = \"Y\"\n",
    "while go == \"Y\":\n",
    "    print(\"enter a number\")\n",
    "    n= user_num \n",
    "    print( n * 5 )\n",
    "    go = input( \"contnue? Y or N\")\n",
    "print(\"ended\")\n"
   ]
  },
  {
   "cell_type": "markdown",
   "id": "44fb885c",
   "metadata": {},
   "source": [
    "#### Nested control\n",
    "\n",
    "for i in <iterable>:\n",
    "    if <conditional>:\n",
    "        do something\n",
    "    else:\n",
    "        do something else\n",
    "\n",
    "Remember, indentation is important"
   ]
  },
  {
   "cell_type": "code",
   "execution_count": 6,
   "id": "19e9c0a6",
   "metadata": {},
   "outputs": [
    {
     "name": "stdout",
     "output_type": "stream",
     "text": [
      "1 is odd\n",
      "2 is even\n",
      "3 is odd\n",
      "4 is even\n",
      "5 is odd\n",
      "6 is even\n",
      "7 is odd\n",
      "8 is even\n",
      "9 is odd\n"
     ]
    }
   ],
   "source": [
    "### Write a function that displays whether a number is even or odd\n",
    "#  The list should be generated with range()\n",
    "def main():\n",
    "    my_list = range(1,10)\n",
    "    for i in my_list:\n",
    "        if i % 2 == 0:\n",
    "            print(i, \"is even\")\n",
    "        else:\n",
    "            print(i, \"is odd\")\n",
    "main()"
   ]
  },
  {
   "cell_type": "markdown",
   "id": "911cee10",
   "metadata": {},
   "source": [
    "#### break\n",
    "\n",
    "break is used to stop iteration immediately - the loop discontinues at the break point"
   ]
  },
  {
   "cell_type": "code",
   "execution_count": 7,
   "id": "3cba881d",
   "metadata": {},
   "outputs": [
    {
     "name": "stdout",
     "output_type": "stream",
     "text": [
      "an iteration\n",
      "1\n",
      "an iteration\n",
      "2\n",
      "an iteration\n",
      "3\n",
      "an iteration\n",
      "4\n",
      "an iteration\n"
     ]
    }
   ],
   "source": [
    "# break\n",
    "\n",
    "alist = [1,2,3,4,-1,6,7]\n",
    "for i in alist:\n",
    "    print(\"an iteration\")\n",
    "    if i > 0:\n",
    "        print(i)\n",
    "    else:\n",
    "        break\n",
    "        print(\"we'll never see this print because the break stop the iteration\")\n"
   ]
  },
  {
   "cell_type": "code",
   "execution_count": null,
   "id": "32548f2f",
   "metadata": {},
   "outputs": [],
   "source": [
    "# comparing break and sentinel control\n",
    "cont = \"Y\"\n",
    "num = 1\n",
    "while cont ==\"Y\":\n",
    "    print(\"an iteration\")\n",
    "    if num <= 5:\n",
    "        print(num)\n",
    "        num = num + 1\n",
    "    else:\n",
    "        cont = \"N\"\n",
    "        print(\"we finish the iteration after the sentinel change - we have to make the while conditional false\")\n"
   ]
  },
  {
   "cell_type": "markdown",
   "id": "e4c0a67b",
   "metadata": {},
   "source": [
    "#### continue\n",
    "\n",
    "continue is used to force the next iteration at that point"
   ]
  },
  {
   "cell_type": "code",
   "execution_count": 8,
   "id": "3ea2cb55",
   "metadata": {},
   "outputs": [
    {
     "name": "stdout",
     "output_type": "stream",
     "text": [
      "an iteration\n",
      "1\n",
      "an iteration\n",
      "2\n",
      "an iteration\n",
      "3\n",
      "an iteration\n",
      "4\n",
      "an iteration\n",
      "oh no! a negative number was detected\n",
      "an iteration\n",
      "6\n",
      "an iteration\n",
      "7\n"
     ]
    }
   ],
   "source": [
    "alist = [1,2,3,4,-1,6,7]\n",
    "for i in alist:\n",
    "    print(\"an iteration\")\n",
    "    if i > 0:\n",
    "        print(i)\n",
    "    else:\n",
    "        print(\"oh no! a negative number was detected\")\n",
    "        continue\n",
    "        print(\"we'll never see this print because the continue goes directly to the next iteration\")"
   ]
  },
  {
   "cell_type": "code",
   "execution_count": 71,
   "id": "f438c1a2",
   "metadata": {},
   "outputs": [
    {
     "name": "stdout",
     "output_type": "stream",
     "text": [
      "The sum is: 8\n",
      "The product is: 24\n",
      "The largest number is: 4\n",
      "The smallest number is: 2\n"
     ]
    }
   ],
   "source": [
    "def main():\n",
    "    num_1 = input(\"Enter 1st number\")\n",
    "    num_2 = input(\"Enter 2nd number\")\n",
    "    num_3= input(\"Enter 3rd numbner\")\n",
    "    sum = int(num_1) + int(num_2) + int(num_2)\n",
    "    print(\"The sum is:\", sum)\n",
    "    product = int(num_1) * int(num_2) * int(num_3)\n",
    "    print(\"The product is:\", product)\n",
    "    largest_num = num_1\n",
    "    if num_2 > largest_num:\n",
    "        largest_num = num_2\n",
    "    if num_3 > largest_num:\n",
    "        largest_num = num_3\n",
    "    print(\"The largest number is:\",largest_num)\n",
    "    smallest_num = num_1\n",
    "    if num_2 < smallest_num:\n",
    "        smallest_num = num_2\n",
    "    if num_3 < smallest_num:\n",
    "        smallest_num = num_3\n",
    "    print(\"The smallest number is:\", smallest_num)\n",
    "\n",
    "main()\n"
   ]
  }
 ],
 "metadata": {
  "kernelspec": {
   "display_name": "Python 3",
   "language": "python",
   "name": "python3"
  },
  "language_info": {
   "codemirror_mode": {
    "name": "ipython",
    "version": 3
   },
   "file_extension": ".py",
   "mimetype": "text/x-python",
   "name": "python",
   "nbconvert_exporter": "python",
   "pygments_lexer": "ipython3",
   "version": "3.9.6"
  }
 },
 "nbformat": 4,
 "nbformat_minor": 5
}
