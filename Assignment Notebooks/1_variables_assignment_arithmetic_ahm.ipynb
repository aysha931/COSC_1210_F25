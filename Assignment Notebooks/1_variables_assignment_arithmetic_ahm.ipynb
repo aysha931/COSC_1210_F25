{
 "cells": [
  {
   "cell_type": "markdown",
   "id": "bacdc7bd",
   "metadata": {},
   "source": [
    "## COSC 1210\n",
    "### Variables, Assignment, Arithmetic\n",
    "\n",
    "Objectives\n",
    "- understand conventions of variable names\n",
    "- describe how variable assignment works\n",
    "- do basic arithmetic "
   ]
  },
  {
   "cell_type": "markdown",
   "id": "650ea2a6",
   "metadata": {},
   "source": [
    "Important terms\n",
    "\n",
    "- expression: a combination of values, variables, operators, and function calls that the Python interpreter can evaluate to produce a single value\n",
    "\n",
    "\n",
    "5 + 5\n",
    "\n",
    "a * b\n",
    "\n",
    "10 > 5\n",
    "\n",
    "\n",
    "- statement: complete instruction that the Python interpreter can execute to perform an action\n",
    "\n",
    "\n",
    "b = 5 + 5 # assignment statement\n",
    "\n",
    "if 10 > 5:\n",
    "\n",
    "    do something\n",
    "\n",
    "    = \"is assigned to\"\n",
    "    == \"is equivalent to\"\n",
    "\n",
    "    b=10\n",
    "    How does the following expression evaluate?\n",
    "    b ==5+5 # evaluates to True\n",
    "\n"
   ]
  },
  {
   "cell_type": "code",
   "execution_count": 6,
   "id": "0e97ccd7",
   "metadata": {},
   "outputs": [
    {
     "name": "stdout",
     "output_type": "stream",
     "text": [
      "True\n"
     ]
    }
   ],
   "source": [
    "# anything to the right of a hastag is ignored by the prcessor\n",
    "# signal that the computer should ignore this text\n",
    "# this is for a human reader\n",
    "\n",
    "b = 10 \n",
    "print(b== 5+5)"
   ]
  },
  {
   "cell_type": "markdown",
   "id": "3e44c008",
   "metadata": {},
   "source": [
    "*Variable naming conventions* \n",
    "\n",
    "A variable name can ...\n",
    "* character A-z a-z\n",
    "* Numbers 0-9 BUT it can't start with a number\n",
    "* use a uner score _\n",
    " \n",
    "A variable name cannot ...\n",
    "* can't start with a number\n",
    "* can't have special character lik )( (*%$#))\n",
    "* can't use reserved words (for while)\n",
    "\n",
    "Types of variable names\n",
    "snake_case_is_like_this\n",
    "CamelCaseIsLikeThis\n",
    "but_thereAreNoRules\n",
    "\n",
    "### Use descriptive Varable Names"
   ]
  },
  {
   "cell_type": "code",
   "execution_count": 12,
   "id": "d61e1009",
   "metadata": {
    "vscode": {
     "languageId": "markdown"
    }
   },
   "outputs": [
    {
     "ename": "SyntaxError",
     "evalue": "invalid syntax (4005640829.py, line 1)",
     "output_type": "error",
     "traceback": [
      "\u001b[0;36m  Cell \u001b[0;32mIn[12], line 1\u001b[0;36m\u001b[0m\n\u001b[0;31m    A variable name can ...\u001b[0m\n\u001b[0m      ^\u001b[0m\n\u001b[0;31mSyntaxError\u001b[0m\u001b[0;31m:\u001b[0m invalid syntax\n"
     ]
    }
   ],
   "source": [
    "A variable name can ...\n",
    "* character A-z a-z\n",
    "* Numbers 0-9 BUT it can't start with a number\n",
    "* use a uner score _\n",
    " \n",
    "A variable name cannot ...\n",
    "* can't start with a number\n",
    "* can't have special character lik )( (*%$#))\n",
    "* can't use reserved words (for while)\n",
    "\n",
    "Types of variable names\n",
    "snake_case_is_like_this\n",
    "CamelCaseIsLikeThis\n",
    "but_thereAreNoRules\n",
    "\n",
    "### Use descriptive Varable Names"
   ]
  },
  {
   "cell_type": "code",
   "execution_count": null,
   "id": "2b45b592",
   "metadata": {},
   "outputs": [
    {
     "name": "stdout",
     "output_type": "stream",
     "text": [
      "10\n",
      "8\n"
     ]
    }
   ],
   "source": [
    "# Variable names and Assignment\n",
    "\n",
    "# What is the value of a and b after the following statements are evaluated?\n",
    "\n",
    "a = 10\n",
    "b = 8\n",
    "#b = a\n",
    "print(a)\n",
    "print(b)"
   ]
  },
  {
   "cell_type": "markdown",
   "id": "3f8bf308",
   "metadata": {},
   "source": [
    "*Arithmetic operators in python* \n",
    "\n",
    "- addition +\n",
    "- subtraction -\n",
    "- multiplication *\n",
    "- division /\n",
    "- floor division //\n",
    "- modulus operator %\n",
    "- exponentiation **"
   ]
  },
  {
   "cell_type": "code",
   "execution_count": 23,
   "id": "eb0359da",
   "metadata": {},
   "outputs": [
    {
     "name": "stdout",
     "output_type": "stream",
     "text": [
      "10\n",
      "7\n",
      "50 25.0\n",
      "40353607\n"
     ]
    }
   ],
   "source": [
    "# Arithmetic\n",
    "# Give examples expressions with each type of arithmetic operator\n",
    "\n",
    "# Note - to see the value of the expressions, simply put your expression in a print() function to see them displayed below\n",
    "print(5+5)\n",
    "print(10-3)\n",
    "print(10*5, 50/2)\n",
    "print(7**9)"
   ]
  },
  {
   "cell_type": "markdown",
   "id": "77ae01b8",
   "metadata": {},
   "source": [
    "#### Four Fours\n",
    "\n",
    "Calculate the numbers 0 to 10 with four number 4s. You must include four fours, and only four fours\n",
    "\n",
    "e.g., \n",
    "\n",
    "print(4 + 4 - 4 + 4, \" is 0\") # this is correct!\n",
    "\n",
    "print(4 - 4, \" is 0\") # incorrect! You only used two fours\n"
   ]
  },
  {
   "cell_type": "code",
   "execution_count": 25,
   "id": "e55221cf",
   "metadata": {},
   "outputs": [
    {
     "name": "stdout",
     "output_type": "stream",
     "text": [
      "0 is 0\n",
      "8.0\n",
      "2.0 is 2\n",
      "8 is 8\n",
      "9.0 is 9\n"
     ]
    }
   ],
   "source": [
    "# Four Fours\n",
    "print(4+4-4-4, \"is 0\")\n",
    "print(4+4/4*4)\n",
    "print(4/4+4/4, \"is 2\")\n",
    "print(4-4+4+4, \"is 8\")\n",
    "print(4+4+4/4, \"is 9\")"
   ]
  }
 ],
 "metadata": {
  "kernelspec": {
   "display_name": "Python 3",
   "language": "python",
   "name": "python3"
  },
  "language_info": {
   "codemirror_mode": {
    "name": "ipython",
    "version": 3
   },
   "file_extension": ".py",
   "mimetype": "text/x-python",
   "name": "python",
   "nbconvert_exporter": "python",
   "pygments_lexer": "ipython3",
   "version": "3.9.6"
  }
 },
 "nbformat": 4,
 "nbformat_minor": 5
}
